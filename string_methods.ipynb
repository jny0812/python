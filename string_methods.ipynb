{
  "nbformat": 4,
  "nbformat_minor": 0,
  "metadata": {
    "colab": {
      "name": "string_methods.ipynb",
      "private_outputs": true,
      "provenance": [],
      "collapsed_sections": [],
      "authorship_tag": "ABX9TyNRMJJ49ce+48pVouF3NYOl",
      "include_colab_link": true
    },
    "kernelspec": {
      "name": "python3",
      "display_name": "Python 3"
    },
    "language_info": {
      "name": "python"
    }
  },
  "cells": [
    {
      "cell_type": "markdown",
      "metadata": {
        "id": "view-in-github",
        "colab_type": "text"
      },
      "source": [
        "<a href=\"https://colab.research.google.com/github/jny0812/python/blob/main/string_methods.ipynb\" target=\"_parent\"><img src=\"https://colab.research.google.com/assets/colab-badge.svg\" alt=\"Open In Colab\"/></a>"
      ]
    },
    {
      "cell_type": "markdown",
      "source": [
        "### 문자열 methods"
      ],
      "metadata": {
        "id": "VkNPbSBX-yCR"
      }
    },
    {
      "cell_type": "code",
      "source": [
        "s='...hello world...'"
      ],
      "metadata": {
        "id": "-T0Ecm7IzKU3"
      },
      "execution_count": null,
      "outputs": []
    },
    {
      "cell_type": "markdown",
      "source": [
        "### strip() 함수\n",
        "- 괄호 안에 지우고 싶은 부분 지정\n",
        "- 괄호 안에 아무것도 넣지 않으면 문자열 앞뒤로 공백 제거하여 출력\n",
        "\n",
        "** 근데 이 함수 별로 쓸모 없는 것 같다. 문자열 앞뒤에 위치한 지정 문자만 제거된다. "
      ],
      "metadata": {
        "id": "jvjN-50bzOWt"
      }
    },
    {
      "cell_type": "code",
      "source": [
        "print(s.strip('.'))"
      ],
      "metadata": {
        "id": "EqUdnOFbzMF2"
      },
      "execution_count": null,
      "outputs": []
    },
    {
      "cell_type": "markdown",
      "source": [
        "### replace('바꿀 문자','뭘로 바꿀건지') 함수"
      ],
      "metadata": {
        "id": "7Qksi3Uvzrgi"
      }
    },
    {
      "cell_type": "code",
      "source": [
        "s = s.strip('.')"
      ],
      "metadata": {
        "id": "G72gfwwJ9hwa"
      },
      "execution_count": null,
      "outputs": []
    },
    {
      "cell_type": "code",
      "source": [
        "print(s.replace('hello','good bye'))"
      ],
      "metadata": {
        "id": "5wycRLXd9Zs8"
      },
      "execution_count": null,
      "outputs": []
    },
    {
      "cell_type": "markdown",
      "source": [
        "#### find () 함수\n",
        "- 어디있는지 찾으려고 할 때 사용\n",
        "- index 기준으로 어디 있는지 위치 반환"
      ],
      "metadata": {
        "id": "dzHX_FtU9eoo"
      }
    },
    {
      "cell_type": "code",
      "source": [
        "s.find('world')"
      ],
      "metadata": {
        "id": "5Qjz-WFz9vw6"
      },
      "execution_count": null,
      "outputs": []
    },
    {
      "cell_type": "markdown",
      "source": [
        "#### startswith() 함수\n",
        "- 문자열이 어떤 문자로 시작하는지 확인\n",
        "- boolean type 반환"
      ],
      "metadata": {
        "id": "8MUddm3C90OV"
      }
    },
    {
      "cell_type": "code",
      "source": [
        "s.startswith('hello')"
      ],
      "metadata": {
        "id": "qYbuiuGs-j_t"
      },
      "execution_count": null,
      "outputs": []
    },
    {
      "cell_type": "code",
      "source": [
        ""
      ],
      "metadata": {
        "id": "TLWHqFCb-pxz"
      },
      "execution_count": null,
      "outputs": []
    }
  ]
}
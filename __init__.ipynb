{
  "nbformat": 4,
  "nbformat_minor": 0,
  "metadata": {
    "colab": {
      "name": "__init__.ipynb",
      "private_outputs": true,
      "provenance": [],
      "authorship_tag": "ABX9TyPazwv7LuPjtwhAwC7ng18z",
      "include_colab_link": true
    },
    "kernelspec": {
      "name": "python3",
      "display_name": "Python 3"
    },
    "language_info": {
      "name": "python"
    }
  },
  "cells": [
    {
      "cell_type": "markdown",
      "metadata": {
        "id": "view-in-github",
        "colab_type": "text"
      },
      "source": [
        "<a href=\"https://colab.research.google.com/github/jny0812/python/blob/main/__init__.ipynb\" target=\"_parent\"><img src=\"https://colab.research.google.com/assets/colab-badge.svg\" alt=\"Open In Colab\"/></a>"
      ]
    },
    {
      "cell_type": "markdown",
      "source": [
        "__init__"
      ],
      "metadata": {
        "id": "FXj-c9ZUPzJ7"
      }
    },
    {
      "cell_type": "code",
      "source": [
        "class BlackBox:\n",
        "    pass\n"
      ],
      "metadata": {
        "id": "bUJ8574PQLfe"
      },
      "execution_count": null,
      "outputs": []
    },
    {
      "cell_type": "code",
      "source": [
        "b1=BlackBox()\n",
        "b1.name='까망이'"
      ],
      "metadata": {
        "id": "_uboOW6NQOaW"
      },
      "execution_count": null,
      "outputs": []
    },
    {
      "cell_type": "code",
      "source": [
        "print(b3.name)\n",
        "\n",
        "#에러"
      ],
      "metadata": {
        "id": "G4bhdQerQTEm"
      },
      "execution_count": null,
      "outputs": []
    },
    {
      "cell_type": "code",
      "source": [
        ""
      ],
      "metadata": {
        "id": "BPorTAhtQVxn"
      },
      "execution_count": null,
      "outputs": []
    },
    {
      "cell_type": "code",
      "source": [
        ""
      ],
      "metadata": {
        "id": "_V2ePOl_QdYQ"
      },
      "execution_count": null,
      "outputs": []
    }
  ]
}
{
  "nbformat": 4,
  "nbformat_minor": 0,
  "metadata": {
    "colab": {
      "name": "__init__.ipynb",
      "private_outputs": true,
      "provenance": [],
      "authorship_tag": "ABX9TyNucw/woMifYdP69pxAtJeO",
      "include_colab_link": true
    },
    "kernelspec": {
      "name": "python3",
      "display_name": "Python 3"
    },
    "language_info": {
      "name": "python"
    }
  },
  "cells": [
    {
      "cell_type": "markdown",
      "metadata": {
        "id": "view-in-github",
        "colab_type": "text"
      },
      "source": [
        "<a href=\"https://colab.research.google.com/github/jny0812/python/blob/main/__init__.ipynb\" target=\"_parent\"><img src=\"https://colab.research.google.com/assets/colab-badge.svg\" alt=\"Open In Colab\"/></a>"
      ]
    },
    {
      "cell_type": "markdown",
      "source": [
        "__init__"
      ],
      "metadata": {
        "id": "FXj-c9ZUPzJ7"
      }
    },
    {
      "cell_type": "code",
      "source": [
        "class BlackBox:\n",
        "    pass\n"
      ],
      "metadata": {
        "id": "bUJ8574PQLfe"
      },
      "execution_count": null,
      "outputs": []
    },
    {
      "cell_type": "code",
      "source": [
        "b1=BlackBox()\n",
        "b1.name='까망이'"
      ],
      "metadata": {
        "id": "_uboOW6NQOaW"
      },
      "execution_count": null,
      "outputs": []
    },
    {
      "cell_type": "code",
      "source": [
        "print(b3.name)\n",
        "\n",
        "#에러"
      ],
      "metadata": {
        "id": "G4bhdQerQTEm"
      },
      "execution_count": null,
      "outputs": []
    },
    {
      "cell_type": "code",
      "source": [
        "class BlackBox:\n",
        "    def __init__(self,name,price):\n",
        "        self.name=name\n",
        "        self.price=price"
      ],
      "metadata": {
        "id": "BPorTAhtQVxn"
      },
      "execution_count": null,
      "outputs": []
    },
    {
      "cell_type": "markdown",
      "source": [
        "- BlackBox 라는 class 안에 name과 price 변수를 가지고 있으며\n",
        "    + 객체를 만들어줄 때 객체의 변수들을 초기화 해주는 게 __init__ 함수 이다\n",
        "\n",
        "- 객체를 생성할 때 자동으로 실행"
      ],
      "metadata": {
        "id": "sswnQoF6RjgI"
      }
    },
    {
      "cell_type": "code",
      "source": [
        "b1 = BlackBox('까망이',2000000)\n",
        "print(b1.name,b1.price)"
      ],
      "metadata": {
        "id": "_V2ePOl_QdYQ"
      },
      "execution_count": null,
      "outputs": []
    },
    {
      "cell_type": "code",
      "source": [
        "b2 = BlackBox('하양이',1000000)\n",
        "b2.name, b2.price"
      ],
      "metadata": {
        "id": "M7Wy7qLVRV5_"
      },
      "execution_count": null,
      "outputs": []
    },
    {
      "cell_type": "code",
      "source": [
        ""
      ],
      "metadata": {
        "id": "BhUMRsLjRcTN"
      },
      "execution_count": null,
      "outputs": []
    }
  ]
}